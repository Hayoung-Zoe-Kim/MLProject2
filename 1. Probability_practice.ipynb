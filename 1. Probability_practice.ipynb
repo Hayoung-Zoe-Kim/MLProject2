{
 "cells": [
  {
   "cell_type": "markdown",
   "id": "210d6be1",
   "metadata": {},
   "source": [
    "## Probability practice"
   ]
  },
  {
   "cell_type": "markdown",
   "id": "b682ccdc-50d9-4b72-82a1-ba9065838c0c",
   "metadata": {},
   "source": [
    "### Anisha Singh (as229583), Antra Sinha (as224589), Hayoung Kim (hk26786), Meenakshi Sundaram (ms88544)"
   ]
  },
  {
   "cell_type": "markdown",
   "id": "b90baf04",
   "metadata": {},
   "source": [
    "##### Part A. Visitors to your website are asked to answer a single survey question before they get access to the content on the page. Among all of the users, there are two categories: Random Clicker (RC), and Truthful Clicker (TC). There are two possible answers to the survey: yes and no. Random clickers would click either one with equal probability. You are also giving the information that the expected fraction of random clickers is 0.3. After a trial period, you get the following survey results: 65% said Yes and 35% said No. What fraction of people who are truthful clickers answered yes? Hint: use the rule of total probability."
   ]
  },
  {
   "cell_type": "markdown",
   "id": "2a99b1ad",
   "metadata": {},
   "source": [
    "$P(Yes|RC) = P(No|RC) = 0.50$\n",
    "\n",
    "$P(RC)  = 0.30$  $P(TC) = 0.70$\n",
    "\n",
    "$P(Yes) = 0.65$  $P(No) = 0.35$\n",
    "\n",
    "$P(TC|Yes)=?$\n",
    "\n",
    "By the rule of total probability,\n",
    "\n",
    "$P(Yes) = P(Yes|RC) * P(RC) +   P(Yes|TC) * P(TC)$\n",
    " \n",
    "$0.65 =      0.50 * 0.30  +   P(Yes|TC) * 0.70$\n",
    "\n",
    "$P(Yes|TC)$ = $(0.65 - 0.15)/0.7$\n",
    "          $= 0.7142$ "
   ]
  },
  {
   "cell_type": "markdown",
   "id": "9051e7fd",
   "metadata": {},
   "source": [
    "##### Part B. Imagine a medical test for a disease with the following two attributes:\n",
    "\n",
    "###### -> The sensitivity is about 0.993. That is, if someone has the disease, there is a probability of 0.993 that they will test positive.\n",
    "##### -> The specificity is about 0.9999. This means that if someone doesn't have the disease, there is probability of 0.9999 that they will test negative.\n",
    "##### -> In the general population, incidence of the disease is reasonably rare: about 0.0025% of all people have it (or 0.000025 as a decimal probability).\n",
    "\n",
    "##### Suppose someone tests positive. What is the probability that they have the disease?"
   ]
  },
  {
   "cell_type": "markdown",
   "id": "020d3a35-e7d3-45ee-a31d-22e7d10e3331",
   "metadata": {},
   "source": [
    "$P(positive|disease) = 0.993$\n",
    "$P(negative|no disease) = 0.9999$\n",
    "$P(positive|no disease) = 0.0001$\n",
    "\n",
    "$P(disease) = 0.000025$\n",
    "\n",
    "$P(no disease) = 0.999975$\n",
    "\n",
    "$P(disease|positive) = ?$\n",
    "\n",
    "By Baye's theorem,\n",
    "\n",
    "$P(disease|positive) = P(positive|disease) * P(disease) /P(positive) $\n",
    "\n",
    "By the rule of total probability,\n",
    "\n",
    "$ P(positive)=P(positive,disease) + P(positive,no disease)$\n",
    "$ = P(disease)* P(positive|disease) + P(no disease)* P(positive|no disease)$\n",
    "$ =(0.993*0.000025) + (0.999975*0.0001 )$\n",
    "$ P(positive) = 0.0001248225$\n",
    "\n",
    "$ P(disease|positive) = (0.993* 0.000025)/(0.0001248225)$\n",
    "\n",
    "$ P(disease|positive) = 0.1988$\n",
    "\n"
   ]
  }
 ],
 "metadata": {
  "kernelspec": {
   "display_name": "Python 3 (ipykernel)",
   "language": "python",
   "name": "python3"
  },
  "language_info": {
   "codemirror_mode": {
    "name": "ipython",
    "version": 3
   },
   "file_extension": ".py",
   "mimetype": "text/x-python",
   "name": "python",
   "nbconvert_exporter": "python",
   "pygments_lexer": "ipython3",
   "version": "3.10.9"
  }
 },
 "nbformat": 4,
 "nbformat_minor": 5
}
