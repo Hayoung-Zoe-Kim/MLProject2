{
 "cells": [
  {
   "cell_type": "markdown",
   "id": "9f7f871c",
   "metadata": {},
   "source": [
    "# Wrangling the Billboard Top 100"
   ]
  },
  {
   "cell_type": "markdown",
   "id": "a57ddfee",
   "metadata": {},
   "source": [
    "#### Anisha Singh (as229583), Antra Sinha (as224589), Hayoung Kim (hk26786), Meenakshi Sundaram (ms88544)"
   ]
  },
  {
   "cell_type": "code",
   "execution_count": 1,
   "id": "e5323e23",
   "metadata": {},
   "outputs": [],
   "source": [
    "import pandas as pd\n",
    "import numpy as np\n",
    "import seaborn as sns\n",
    "import matplotlib.pyplot as plt"
   ]
  },
  {
   "cell_type": "code",
   "execution_count": 2,
   "id": "96b790ef",
   "metadata": {},
   "outputs": [],
   "source": [
    "billboard = pd.read_csv('billboard.csv')"
   ]
  },
  {
   "cell_type": "code",
   "execution_count": 3,
   "id": "94fa55f8",
   "metadata": {
    "scrolled": true
   },
   "outputs": [
    {
     "name": "stdout",
     "output_type": "stream",
     "text": [
      "<class 'pandas.core.frame.DataFrame'>\n",
      "RangeIndex: 327895 entries, 0 to 327894\n",
      "Data columns (total 13 columns):\n",
      " #   Column                  Non-Null Count   Dtype  \n",
      "---  ------                  --------------   -----  \n",
      " 0   Unnamed: 0              327895 non-null  int64  \n",
      " 1   url                     327895 non-null  object \n",
      " 2   week_id                 327895 non-null  object \n",
      " 3   week_position           327895 non-null  int64  \n",
      " 4   song                    327895 non-null  object \n",
      " 5   performer               327895 non-null  object \n",
      " 6   song_id                 327895 non-null  object \n",
      " 7   instance                327895 non-null  int64  \n",
      " 8   previous_week_position  295941 non-null  float64\n",
      " 9   peak_position           327895 non-null  int64  \n",
      " 10  weeks_on_chart          327895 non-null  int64  \n",
      " 11  year                    327895 non-null  int64  \n",
      " 12  week                    327895 non-null  int64  \n",
      "dtypes: float64(1), int64(7), object(5)\n",
      "memory usage: 32.5+ MB\n"
     ]
    }
   ],
   "source": [
    "billboard.info()"
   ]
  },
  {
   "cell_type": "code",
   "execution_count": 4,
   "id": "52c95bf6",
   "metadata": {},
   "outputs": [
    {
     "data": {
      "text/plain": [
       "327895"
      ]
     },
     "execution_count": 4,
     "metadata": {},
     "output_type": "execute_result"
    }
   ],
   "source": [
    "len(billboard)"
   ]
  },
  {
   "cell_type": "code",
   "execution_count": 5,
   "id": "d733a9a8",
   "metadata": {},
   "outputs": [
    {
     "data": {
      "text/plain": [
       "10061"
      ]
     },
     "execution_count": 5,
     "metadata": {},
     "output_type": "execute_result"
    }
   ],
   "source": [
    "billboard['performer'].nunique()"
   ]
  },
  {
   "cell_type": "code",
   "execution_count": 6,
   "id": "73cc8899",
   "metadata": {},
   "outputs": [
    {
     "data": {
      "text/plain": [
       "24360"
      ]
     },
     "execution_count": 6,
     "metadata": {},
     "output_type": "execute_result"
    }
   ],
   "source": [
    "billboard['song'].nunique()"
   ]
  },
  {
   "cell_type": "markdown",
   "id": "9017cdef",
   "metadata": {},
   "source": [
    "## Part A\n",
    "### Make a table of the top 10 most popular songs since 1958"
   ]
  },
  {
   "cell_type": "markdown",
   "id": "4d764945",
   "metadata": {},
   "source": [
    "Your table should have 10 rows and 3 columns: performer, song, and count, where count represents the number of weeks that song appeared in the Billboard Top 100. Make sure the entries are sorted in descending order of the count variable, so that the more popular songs appear at the top of the table. Give your table a short caption describing what is shown in the table.\n",
    "\n",
    "(Note: you'll want to use both performer and song in any group_by operations, to account for the fact that multiple unique songs can share the same title.)"
   ]
  },
  {
   "cell_type": "code",
   "execution_count": 7,
   "id": "aa608273",
   "metadata": {
    "scrolled": true
   },
   "outputs": [
    {
     "data": {
      "text/html": [
       "<div>\n",
       "<style scoped>\n",
       "    .dataframe tbody tr th:only-of-type {\n",
       "        vertical-align: middle;\n",
       "    }\n",
       "\n",
       "    .dataframe tbody tr th {\n",
       "        vertical-align: top;\n",
       "    }\n",
       "\n",
       "    .dataframe thead th {\n",
       "        text-align: right;\n",
       "    }\n",
       "</style>\n",
       "<table border=\"1\" class=\"dataframe\">\n",
       "  <thead>\n",
       "    <tr style=\"text-align: right;\">\n",
       "      <th></th>\n",
       "      <th></th>\n",
       "      <th>count</th>\n",
       "    </tr>\n",
       "    <tr>\n",
       "      <th>performer</th>\n",
       "      <th>song</th>\n",
       "      <th></th>\n",
       "    </tr>\n",
       "  </thead>\n",
       "  <tbody>\n",
       "    <tr>\n",
       "      <th>Imagine Dragons</th>\n",
       "      <th>Radioactive</th>\n",
       "      <td>87</td>\n",
       "    </tr>\n",
       "    <tr>\n",
       "      <th>AWOLNATION</th>\n",
       "      <th>Sail</th>\n",
       "      <td>79</td>\n",
       "    </tr>\n",
       "    <tr>\n",
       "      <th>The Weeknd</th>\n",
       "      <th>Blinding Lights</th>\n",
       "      <td>76</td>\n",
       "    </tr>\n",
       "    <tr>\n",
       "      <th>Jason Mraz</th>\n",
       "      <th>I'm Yours</th>\n",
       "      <td>76</td>\n",
       "    </tr>\n",
       "    <tr>\n",
       "      <th>LeAnn Rimes</th>\n",
       "      <th>How Do I Live</th>\n",
       "      <td>69</td>\n",
       "    </tr>\n",
       "    <tr>\n",
       "      <th>OneRepublic</th>\n",
       "      <th>Counting Stars</th>\n",
       "      <td>68</td>\n",
       "    </tr>\n",
       "    <tr>\n",
       "      <th>LMFAO Featuring Lauren Bennett &amp; GoonRock</th>\n",
       "      <th>Party Rock Anthem</th>\n",
       "      <td>68</td>\n",
       "    </tr>\n",
       "    <tr>\n",
       "      <th>Jewel</th>\n",
       "      <th>Foolish Games/You Were Meant For Me</th>\n",
       "      <td>65</td>\n",
       "    </tr>\n",
       "    <tr>\n",
       "      <th>Adele</th>\n",
       "      <th>Rolling In The Deep</th>\n",
       "      <td>65</td>\n",
       "    </tr>\n",
       "    <tr>\n",
       "      <th>Carrie Underwood</th>\n",
       "      <th>Before He Cheats</th>\n",
       "      <td>64</td>\n",
       "    </tr>\n",
       "  </tbody>\n",
       "</table>\n",
       "</div>"
      ],
      "text/plain": [
       "                                                                               count\n",
       "performer                                 song                                      \n",
       "Imagine Dragons                           Radioactive                             87\n",
       "AWOLNATION                                Sail                                    79\n",
       "The Weeknd                                Blinding Lights                         76\n",
       "Jason Mraz                                I'm Yours                               76\n",
       "LeAnn Rimes                               How Do I Live                           69\n",
       "OneRepublic                               Counting Stars                          68\n",
       "LMFAO Featuring Lauren Bennett & GoonRock Party Rock Anthem                       68\n",
       "Jewel                                     Foolish Games/You Were Meant For Me     65\n",
       "Adele                                     Rolling In The Deep                     65\n",
       "Carrie Underwood                          Before He Cheats                        64"
      ]
     },
     "execution_count": 7,
     "metadata": {},
     "output_type": "execute_result"
    }
   ],
   "source": [
    "# Group by 'performer' and 'song' and count the observations\n",
    "groupby = billboard.groupby(['performer', 'song']).count()['week']\n",
    "\n",
    "# Sort the groups in descending order based on the count\n",
    "top10 = groupby.sort_values(ascending=False)[:10]\n",
    "top10 = pd.DataFrame(top10)\n",
    "# Rename the column 'week' to 'count'\n",
    "top10.columns = ['count']\n",
    "\n",
    "top10"
   ]
  },
  {
   "cell_type": "markdown",
   "id": "6fd877d9",
   "metadata": {},
   "source": [
    "> Imagine Dragons - Radiactive is by far the most popular."
   ]
  },
  {
   "cell_type": "markdown",
   "id": "2297ce20",
   "metadata": {},
   "source": [
    "## Part B"
   ]
  },
  {
   "cell_type": "markdown",
   "id": "6e1a210c",
   "metadata": {},
   "source": [
    "### Make a line graph that plots this measure of musical diversity over the years.\n",
    "- Musical diversity of given year = the number of unique songs that appeared in the Billboard Top 100 that year\n",
    "- For this part, please filter the data set so that it excludes the years 1958 and 2021\n",
    "- Give the figure an informative caption in which you explain what is shown in the figure and comment on any interesting trends you see."
   ]
  },
  {
   "cell_type": "code",
   "execution_count": 8,
   "id": "ea29e065",
   "metadata": {},
   "outputs": [],
   "source": [
    "# Filter out the years 1958 and 2021\n",
    "billboard = billboard[billboard['year'] != 1958]\n",
    "billboard = billboard[billboard['year'] != 2021]"
   ]
  },
  {
   "cell_type": "code",
   "execution_count": 9,
   "id": "3b690715",
   "metadata": {},
   "outputs": [],
   "source": [
    "# Get a list of unique songs by years using groupby\n",
    "year_groupby = billboard.groupby(['year', 'performer', 'song']).count()[['week']]"
   ]
  },
  {
   "cell_type": "code",
   "execution_count": 10,
   "id": "7c60aa8d",
   "metadata": {
    "scrolled": true
   },
   "outputs": [],
   "source": [
    "# Get a list of year\n",
    "year_list = billboard['year'].unique()\n",
    "\n",
    "# Get a list of unique number of songs using for loop\n",
    "unique_songs_N = []\n",
    "for year in list(year_list):\n",
    "    unique_songs_N.append(len(year_groupby.loc[year]))\n",
    "    \n",
    "# Output the musical diversity list\n",
    "musical_diversity = pd.DataFrame({'Year': year_list, 'Unique N of songs':unique_songs_N})\n",
    "# Sort by Year\n",
    "musical_diversity = musical_diversity.sort_values(by='Year')"
   ]
  },
  {
   "cell_type": "code",
   "execution_count": 11,
   "id": "bf164302",
   "metadata": {},
   "outputs": [
    {
     "data": {
      "image/png": "[encoded data removed]",
      "text/plain": [
       "<Figure size 640x480 with 1 Axes>"
      ]
     },
     "metadata": {},
     "output_type": "display_data"
    }
   ],
   "source": [
    "# Make a line graph\n",
    "sns.lineplot(x='Year', y='Unique N of songs', data=musical_diversity)\n",
    "plt.title('Musical Diversity over the years');"
   ]
  },
  {
   "cell_type": "markdown",
   "id": "4d36a08b",
   "metadata": {},
   "source": [
    ">- Overall, after peaking in 1966, the number of unique songs showed a decreasing trend until around 2000. After that, it started to increase, indicating a rise in musical diversity. It appears that until 2000, a smaller group of performers dominated the Billboard chart for longer weeks, whereas after 2000, there was a broader range of artists.\n",
    ">- The year 1966 recorded the highest number of unique songs (832 songs), while the year 2001 recorded the lowest (387 songs). The median number of weeks a song spent on the Billboard chart in 1966 and 2001 was 6 and 14, respectively, showing a difference of more than 2 times. Specifically, 'Lifehouse - Hanging By A Moment' and 'Train - Drops Of Jupiter (Tell Me)' stayed on the Billboard chart of 2001 for more than 40 weeks.\n"
   ]
  },
  {
   "cell_type": "markdown",
   "id": "2a291cc2",
   "metadata": {},
   "source": [
    "## Part C"
   ]
  },
  {
   "cell_type": "markdown",
   "id": "3d06ac3f",
   "metadata": {},
   "source": [
    "### Make a bar plot for these 19 artists, showing how many ten-week hits each one had in their musical career.\n",
    "- Define a \"ten-week hit\" as a single song that appeared on the Billboard Top 100 for at least ten weeks. \n",
    "- There are 19 artists in U.S. musical history since 1958 who have had at least 30 songs that were \"ten-week hits.\" "
   ]
  },
  {
   "cell_type": "code",
   "execution_count": 12,
   "id": "ad9dc9d8",
   "metadata": {},
   "outputs": [],
   "source": [
    "# Reuse 'groupby' from part A by making it to DataFrame\n",
    "groupby = pd.DataFrame(groupby)\n",
    "\n",
    "# Define a 'ten-week hit'\n",
    "mask = groupby['week'] >=10\n",
    "ten_week_hit = groupby[mask]"
   ]
  },
  {
   "cell_type": "code",
   "execution_count": 13,
   "id": "d5eda773",
   "metadata": {},
   "outputs": [
    {
     "name": "stdout",
     "output_type": "stream",
     "text": [
      "<19 artists who have had at least 30 songs that were \"ten-week hits\">\n"
     ]
    },
    {
     "data": {
      "text/html": [
       "<div>\n",
       "<style scoped>\n",
       "    .dataframe tbody tr th:only-of-type {\n",
       "        vertical-align: middle;\n",
       "    }\n",
       "\n",
       "    .dataframe tbody tr th {\n",
       "        vertical-align: top;\n",
       "    }\n",
       "\n",
       "    .dataframe thead th {\n",
       "        text-align: right;\n",
       "    }\n",
       "</style>\n",
       "<table border=\"1\" class=\"dataframe\">\n",
       "  <thead>\n",
       "    <tr style=\"text-align: right;\">\n",
       "      <th></th>\n",
       "      <th>N_of_hitsongs</th>\n",
       "    </tr>\n",
       "    <tr>\n",
       "      <th>performer</th>\n",
       "      <th></th>\n",
       "    </tr>\n",
       "  </thead>\n",
       "  <tbody>\n",
       "    <tr>\n",
       "      <th>Billy Joel</th>\n",
       "      <td>32</td>\n",
       "    </tr>\n",
       "    <tr>\n",
       "      <th>Brad Paisley</th>\n",
       "      <td>30</td>\n",
       "    </tr>\n",
       "    <tr>\n",
       "      <th>Chicago</th>\n",
       "      <td>31</td>\n",
       "    </tr>\n",
       "    <tr>\n",
       "      <th>Daryl Hall John Oates</th>\n",
       "      <td>30</td>\n",
       "    </tr>\n",
       "    <tr>\n",
       "      <th>Drake</th>\n",
       "      <td>31</td>\n",
       "    </tr>\n",
       "    <tr>\n",
       "      <th>Elton John</th>\n",
       "      <td>52</td>\n",
       "    </tr>\n",
       "    <tr>\n",
       "      <th>George Strait</th>\n",
       "      <td>30</td>\n",
       "    </tr>\n",
       "    <tr>\n",
       "      <th>Jason Aldean</th>\n",
       "      <td>30</td>\n",
       "    </tr>\n",
       "    <tr>\n",
       "      <th>Keith Urban</th>\n",
       "      <td>36</td>\n",
       "    </tr>\n",
       "    <tr>\n",
       "      <th>Kenny Chesney</th>\n",
       "      <td>42</td>\n",
       "    </tr>\n",
       "    <tr>\n",
       "      <th>Madonna</th>\n",
       "      <td>44</td>\n",
       "    </tr>\n",
       "    <tr>\n",
       "      <th>Michael Jackson</th>\n",
       "      <td>34</td>\n",
       "    </tr>\n",
       "    <tr>\n",
       "      <th>Neil Diamond</th>\n",
       "      <td>30</td>\n",
       "    </tr>\n",
       "    <tr>\n",
       "      <th>Rascal Flatts</th>\n",
       "      <td>31</td>\n",
       "    </tr>\n",
       "    <tr>\n",
       "      <th>Rod Stewart</th>\n",
       "      <td>33</td>\n",
       "    </tr>\n",
       "    <tr>\n",
       "      <th>Stevie Wonder</th>\n",
       "      <td>36</td>\n",
       "    </tr>\n",
       "    <tr>\n",
       "      <th>Taylor Swift</th>\n",
       "      <td>35</td>\n",
       "    </tr>\n",
       "    <tr>\n",
       "      <th>The Rolling Stones</th>\n",
       "      <td>33</td>\n",
       "    </tr>\n",
       "    <tr>\n",
       "      <th>Tim McGraw</th>\n",
       "      <td>39</td>\n",
       "    </tr>\n",
       "  </tbody>\n",
       "</table>\n",
       "</div>"
      ],
      "text/plain": [
       "                       N_of_hitsongs\n",
       "performer                           \n",
       "Billy Joel                        32\n",
       "Brad Paisley                      30\n",
       "Chicago                           31\n",
       "Daryl Hall John Oates             30\n",
       "Drake                             31\n",
       "Elton John                        52\n",
       "George Strait                     30\n",
       "Jason Aldean                      30\n",
       "Keith Urban                       36\n",
       "Kenny Chesney                     42\n",
       "Madonna                           44\n",
       "Michael Jackson                   34\n",
       "Neil Diamond                      30\n",
       "Rascal Flatts                     31\n",
       "Rod Stewart                       33\n",
       "Stevie Wonder                     36\n",
       "Taylor Swift                      35\n",
       "The Rolling Stones                33\n",
       "Tim McGraw                        39"
      ]
     },
     "execution_count": 13,
     "metadata": {},
     "output_type": "execute_result"
    }
   ],
   "source": [
    "# initalize lists\n",
    "ten_week_artists = []\n",
    "N_of_hit_songs = []\n",
    "\n",
    "# Fill lists by iterating 'ten_week_hit' \n",
    "temp = ten_week_hit.T\n",
    "for artist in temp.columns:\n",
    "    ten_week_artists.append(artist[0])\n",
    "    N_of_hit_songs.append(temp[artist].count().sum())\n",
    "\n",
    "# Create DataFrame using two lists and filter 19 artists who had at least 30 songs within 'ten-week hits'\n",
    "temp = pd.DataFrame({'performer':ten_week_artists, 'N_of_hitsongs':N_of_hit_songs}).groupby('performer').count()\n",
    "artists_19 = temp[temp['N_of_hitsongs'] >=30]\n",
    "print('<19 artists who have had at least 30 songs that were \"ten-week hits\">')\n",
    "artists_19"
   ]
  },
  {
   "cell_type": "code",
   "execution_count": 14,
   "id": "97d22cfe",
   "metadata": {},
   "outputs": [
    {
     "data": {
      "text/plain": [
       "(N_of_hitsongs    52\n",
       " dtype: int64,\n",
       " N_of_hitsongs    30\n",
       " dtype: int64,\n",
       " N_of_hitsongs    34.684211\n",
       " dtype: float64,\n",
       " N_of_hitsongs    33.0\n",
       " dtype: float64)"
      ]
     },
     "execution_count": 14,
     "metadata": {},
     "output_type": "execute_result"
    }
   ],
   "source": [
    "artists_19.max(), artists_19.min(), artists_19.mean(), artists_19.median()"
   ]
  },
  {
   "cell_type": "code",
   "execution_count": 15,
   "id": "5f1e9b58",
   "metadata": {},
   "outputs": [
    {
     "data": {
      "text/html": [
       "<div>\n",
       "<style scoped>\n",
       "    .dataframe tbody tr th:only-of-type {\n",
       "        vertical-align: middle;\n",
       "    }\n",
       "\n",
       "    .dataframe tbody tr th {\n",
       "        vertical-align: top;\n",
       "    }\n",
       "\n",
       "    .dataframe thead th {\n",
       "        text-align: right;\n",
       "    }\n",
       "</style>\n",
       "<table border=\"1\" class=\"dataframe\">\n",
       "  <thead>\n",
       "    <tr style=\"text-align: right;\">\n",
       "      <th></th>\n",
       "      <th>N_of_hitsongs</th>\n",
       "    </tr>\n",
       "    <tr>\n",
       "      <th>performer</th>\n",
       "      <th></th>\n",
       "    </tr>\n",
       "  </thead>\n",
       "  <tbody>\n",
       "    <tr>\n",
       "      <th>Brad Paisley</th>\n",
       "      <td>30</td>\n",
       "    </tr>\n",
       "    <tr>\n",
       "      <th>Daryl Hall John Oates</th>\n",
       "      <td>30</td>\n",
       "    </tr>\n",
       "    <tr>\n",
       "      <th>George Strait</th>\n",
       "      <td>30</td>\n",
       "    </tr>\n",
       "    <tr>\n",
       "      <th>Jason Aldean</th>\n",
       "      <td>30</td>\n",
       "    </tr>\n",
       "    <tr>\n",
       "      <th>Neil Diamond</th>\n",
       "      <td>30</td>\n",
       "    </tr>\n",
       "  </tbody>\n",
       "</table>\n",
       "</div>"
      ],
      "text/plain": [
       "                       N_of_hitsongs\n",
       "performer                           \n",
       "Brad Paisley                      30\n",
       "Daryl Hall John Oates             30\n",
       "George Strait                     30\n",
       "Jason Aldean                      30\n",
       "Neil Diamond                      30"
      ]
     },
     "execution_count": 15,
     "metadata": {},
     "output_type": "execute_result"
    }
   ],
   "source": [
    "artists_19[artists_19['N_of_hitsongs'] == 30]"
   ]
  },
  {
   "cell_type": "code",
   "execution_count": 16,
   "id": "e97d351d",
   "metadata": {
    "scrolled": false
   },
   "outputs": [
    {
     "data": {
      "text/plain": [
       "Text(0.5, 1.0, '19 artists that have at least 30 songs of ten-week-hits')"
      ]
     },
     "execution_count": 16,
     "metadata": {},
     "output_type": "execute_result"
    },
    {
     "data": {
      "image/png": "[encoded data removed]",
      "text/plain": [
       "<Figure size 640x480 with 1 Axes>"
      ]
     },
     "metadata": {},
     "output_type": "display_data"
    }
   ],
   "source": [
    "# Make a bar plot for 19 artists\n",
    "artists_19 = artists_19.sort_values(by='N_of_hitsongs')\n",
    "artists_19.plot(kind='barh')\n",
    "plt.title('19 artists that have at least 30 songs of ten-week-hits')"
   ]
  },
  {
   "cell_type": "markdown",
   "id": "57ca1961",
   "metadata": {},
   "source": [
    "> - The mean number of ten-week hit songs is approximately 35, with a median of 33.\n",
    "> - Elton John had the highest number of ten-week hit songs, totaling 52.\n",
    "> - Five performers had the lowest number of ten-week hit songs, which was 30."
   ]
  }
 ],
 "metadata": {
  "kernelspec": {
   "display_name": "Python 3 (ipykernel)",
   "language": "python",
   "name": "python3"
  },
  "language_info": {
   "codemirror_mode": {
    "name": "ipython",
    "version": 3
   },
   "file_extension": ".py",
   "mimetype": "text/x-python",
   "name": "python",
   "nbconvert_exporter": "python",
   "pygments_lexer": "ipython3",
   "version": "3.9.13"
  }
 },
 "nbformat": 4,
 "nbformat_minor": 5
}
